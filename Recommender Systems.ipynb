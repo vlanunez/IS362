{
 "cells": [
  {
   "cell_type": "markdown",
   "id": "abd1154b",
   "metadata": {},
   "source": [
    "The site I chose is Netflix. It is a paid video streaming service that charges users a monthly fee. It uses a recommender system to suggest movies a viewer may enjoy watching. Netflix produces its own content as well as hosts content from other production companies. Content produced by Netflix is currently always available on Netflix. However, content from other producers rotates on and off Netflix depending on the agreements Netflix has with each producer. A video that was available to stream in December, may not be available in January.\n",
    "\n",
    "Answer the three scenario design questions for this web site:\n",
    "1 - Who are your users?\n",
    "\n",
    "My users are people who have a current Netflix subscription.\n",
    "\n",
    "2 - What are their key goals?\n",
    "\n",
    "Their key goal is to find content currently in the Netflix library that they will enjoy watching.\n",
    "\n",
    "3 - How can you help them accomplish those goals?\n",
    "\n",
    "I would use the user's previous viewing history and ratings. I would compare this with other users on the network that have overlapping viewing histories and comparable reviews. Using this information I would determine where the datasets do not overlap and suggest videos based on what other users who have similar viewing habits watch."
   ]
  }
 ],
 "metadata": {
  "kernelspec": {
   "display_name": "Python 3 (ipykernel)",
   "language": "python",
   "name": "python3"
  },
  "language_info": {
   "codemirror_mode": {
    "name": "ipython",
    "version": 3
   },
   "file_extension": ".py",
   "mimetype": "text/x-python",
   "name": "python",
   "nbconvert_exporter": "python",
   "pygments_lexer": "ipython3",
   "version": "3.9.7"
  }
 },
 "nbformat": 4,
 "nbformat_minor": 5
}
