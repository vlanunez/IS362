{
 "cells": [
  {
   "cell_type": "markdown",
   "id": "6f76082a",
   "metadata": {},
   "source": [
    "# Week 7 Assigment"
   ]
  },
  {
   "cell_type": "code",
   "execution_count": 1,
   "id": "3d453fdf",
   "metadata": {},
   "outputs": [],
   "source": [
    "import numpy as np\n",
    "import pandas as pd\n",
    "pd.set_option('display.notebook_repr_html', True) \n",
    "pd.set_option('display.max_rows', None) \n",
    "pd.set_option('display.max_columns', None) \n"
   ]
  },
  {
   "cell_type": "code",
   "execution_count": 2,
   "id": "6413467f",
   "metadata": {},
   "outputs": [],
   "source": [
    "movies = pd.read_csv(r'c:\\data\\flixratings.csv',  index_col=0)"
   ]
  },
  {
   "cell_type": "code",
   "execution_count": 3,
   "id": "bf391d6a",
   "metadata": {},
   "outputs": [
    {
     "data": {
      "text/html": [
       "<div>\n",
       "<style scoped>\n",
       "    .dataframe tbody tr th:only-of-type {\n",
       "        vertical-align: middle;\n",
       "    }\n",
       "\n",
       "    .dataframe tbody tr th {\n",
       "        vertical-align: top;\n",
       "    }\n",
       "\n",
       "    .dataframe thead th {\n",
       "        text-align: right;\n",
       "    }\n",
       "</style>\n",
       "<table border=\"1\" class=\"dataframe\">\n",
       "  <thead>\n",
       "    <tr style=\"text-align: right;\">\n",
       "      <th></th>\n",
       "      <th>Samantha</th>\n",
       "      <th>Mary</th>\n",
       "      <th>John</th>\n",
       "      <th>Albert</th>\n",
       "      <th>Jeffrey</th>\n",
       "      <th>Julius</th>\n",
       "    </tr>\n",
       "  </thead>\n",
       "  <tbody>\n",
       "    <tr>\n",
       "      <th>The Batman</th>\n",
       "      <td>2.0</td>\n",
       "      <td>NaN</td>\n",
       "      <td>3.0</td>\n",
       "      <td>NaN</td>\n",
       "      <td>NaN</td>\n",
       "      <td>NaN</td>\n",
       "    </tr>\n",
       "    <tr>\n",
       "      <th>Turning Red</th>\n",
       "      <td>4.0</td>\n",
       "      <td>NaN</td>\n",
       "      <td>5.0</td>\n",
       "      <td>NaN</td>\n",
       "      <td>2.0</td>\n",
       "      <td>4.0</td>\n",
       "    </tr>\n",
       "    <tr>\n",
       "      <th>The Adam Project</th>\n",
       "      <td>NaN</td>\n",
       "      <td>4.0</td>\n",
       "      <td>2.0</td>\n",
       "      <td>NaN</td>\n",
       "      <td>NaN</td>\n",
       "      <td>4.0</td>\n",
       "    </tr>\n",
       "    <tr>\n",
       "      <th>Spider-Man: No Way Home</th>\n",
       "      <td>5.0</td>\n",
       "      <td>1.0</td>\n",
       "      <td>3.0</td>\n",
       "      <td>NaN</td>\n",
       "      <td>NaN</td>\n",
       "      <td>1.0</td>\n",
       "    </tr>\n",
       "    <tr>\n",
       "      <th>Nightmare Alley</th>\n",
       "      <td>NaN</td>\n",
       "      <td>NaN</td>\n",
       "      <td>1.0</td>\n",
       "      <td>4.0</td>\n",
       "      <td>4.0</td>\n",
       "      <td>NaN</td>\n",
       "    </tr>\n",
       "  </tbody>\n",
       "</table>\n",
       "</div>"
      ],
      "text/plain": [
       "                          Samantha  Mary  John  Albert  Jeffrey  Julius\n",
       "The Batman                     2.0   NaN   3.0     NaN      NaN     NaN\n",
       "Turning Red                    4.0   NaN   5.0     NaN      2.0     4.0\n",
       "The Adam Project               NaN   4.0   2.0     NaN      NaN     4.0\n",
       "Spider-Man: No Way Home        5.0   1.0   3.0     NaN      NaN     1.0\n",
       "Nightmare Alley                NaN   NaN   1.0     4.0      4.0     NaN"
      ]
     },
     "execution_count": 3,
     "metadata": {},
     "output_type": "execute_result"
    }
   ],
   "source": [
    "movies.head()"
   ]
  },
  {
   "cell_type": "code",
   "execution_count": 4,
   "id": "caaa8941",
   "metadata": {},
   "outputs": [
    {
     "data": {
      "text/plain": [
       "Samantha    3.250000\n",
       "Mary        3.000000\n",
       "John        2.800000\n",
       "Albert      3.500000\n",
       "Jeffrey     2.666667\n",
       "Julius      3.000000\n",
       "dtype: float64"
      ]
     },
     "execution_count": 4,
     "metadata": {},
     "output_type": "execute_result"
    }
   ],
   "source": [
    "# Calculate the average by column\n",
    "movies.mean()"
   ]
  },
  {
   "cell_type": "code",
   "execution_count": 5,
   "id": "d136fc76",
   "metadata": {},
   "outputs": [
    {
     "data": {
      "text/plain": [
       "The Batman                  2.500000\n",
       "Turning Red                 3.750000\n",
       "The Adam Project            3.333333\n",
       "Spider-Man: No Way Home     2.500000\n",
       "Nightmare Alley             3.000000\n",
       "Uncharted                   2.800000\n",
       "dtype: float64"
      ]
     },
     "execution_count": 5,
     "metadata": {},
     "output_type": "execute_result"
    }
   ],
   "source": [
    "# Calculate the average by row\n",
    "mean = pd.Series(movies.mean(axis=1))\n",
    "mean"
   ]
  },
  {
   "cell_type": "code",
   "execution_count": 6,
   "id": "ce2c58ff",
   "metadata": {},
   "outputs": [
    {
     "data": {
      "text/html": [
       "<div>\n",
       "<style scoped>\n",
       "    .dataframe tbody tr th:only-of-type {\n",
       "        vertical-align: middle;\n",
       "    }\n",
       "\n",
       "    .dataframe tbody tr th {\n",
       "        vertical-align: top;\n",
       "    }\n",
       "\n",
       "    .dataframe thead th {\n",
       "        text-align: right;\n",
       "    }\n",
       "</style>\n",
       "<table border=\"1\" class=\"dataframe\">\n",
       "  <thead>\n",
       "    <tr style=\"text-align: right;\">\n",
       "      <th></th>\n",
       "      <th>The Batman</th>\n",
       "      <th>Turning Red</th>\n",
       "      <th>The Adam Project</th>\n",
       "      <th>Spider-Man: No Way Home</th>\n",
       "      <th>Nightmare Alley</th>\n",
       "      <th>Uncharted</th>\n",
       "    </tr>\n",
       "  </thead>\n",
       "  <tbody>\n",
       "    <tr>\n",
       "      <th>Samantha</th>\n",
       "      <td>0.0</td>\n",
       "      <td>0.666667</td>\n",
       "      <td>NaN</td>\n",
       "      <td>1.0</td>\n",
       "      <td>NaN</td>\n",
       "      <td>0.000000</td>\n",
       "    </tr>\n",
       "    <tr>\n",
       "      <th>Mary</th>\n",
       "      <td>NaN</td>\n",
       "      <td>NaN</td>\n",
       "      <td>1.00</td>\n",
       "      <td>0.0</td>\n",
       "      <td>NaN</td>\n",
       "      <td>1.000000</td>\n",
       "    </tr>\n",
       "    <tr>\n",
       "      <th>John</th>\n",
       "      <td>0.5</td>\n",
       "      <td>1.000000</td>\n",
       "      <td>0.25</td>\n",
       "      <td>0.5</td>\n",
       "      <td>0.0</td>\n",
       "      <td>NaN</td>\n",
       "    </tr>\n",
       "    <tr>\n",
       "      <th>Albert</th>\n",
       "      <td>NaN</td>\n",
       "      <td>NaN</td>\n",
       "      <td>NaN</td>\n",
       "      <td>NaN</td>\n",
       "      <td>1.0</td>\n",
       "      <td>0.000000</td>\n",
       "    </tr>\n",
       "    <tr>\n",
       "      <th>Jeffrey</th>\n",
       "      <td>NaN</td>\n",
       "      <td>0.000000</td>\n",
       "      <td>NaN</td>\n",
       "      <td>NaN</td>\n",
       "      <td>1.0</td>\n",
       "      <td>0.000000</td>\n",
       "    </tr>\n",
       "    <tr>\n",
       "      <th>Julius</th>\n",
       "      <td>NaN</td>\n",
       "      <td>1.000000</td>\n",
       "      <td>1.00</td>\n",
       "      <td>0.0</td>\n",
       "      <td>NaN</td>\n",
       "      <td>0.666667</td>\n",
       "    </tr>\n",
       "  </tbody>\n",
       "</table>\n",
       "</div>"
      ],
      "text/plain": [
       "          The Batman  Turning Red  The Adam Project  Spider-Man: No Way Home   \\\n",
       "Samantha         0.0     0.666667               NaN                       1.0   \n",
       "Mary             NaN          NaN              1.00                       0.0   \n",
       "John             0.5     1.000000              0.25                       0.5   \n",
       "Albert           NaN          NaN               NaN                       NaN   \n",
       "Jeffrey          NaN     0.000000               NaN                       NaN   \n",
       "Julius           NaN     1.000000              1.00                       0.0   \n",
       "\n",
       "          Nightmare Alley  Uncharted   \n",
       "Samantha              NaN    0.000000  \n",
       "Mary                  NaN    1.000000  \n",
       "John                  0.0         NaN  \n",
       "Albert                1.0    0.000000  \n",
       "Jeffrey               1.0    0.000000  \n",
       "Julius                NaN    0.666667  "
      ]
     },
     "execution_count": 6,
     "metadata": {},
     "output_type": "execute_result"
    }
   ],
   "source": [
    "# Calculate the normalized ratings for each cell. And transpose the rows and columns\n",
    "movies_norm = ((movies - movies.min()) / (movies.max() - movies.min())).transpose()\n",
    "movies_norm   "
   ]
  },
  {
   "cell_type": "code",
   "execution_count": 7,
   "id": "9ec7675f",
   "metadata": {},
   "outputs": [
    {
     "data": {
      "text/plain": [
       "Samantha    0.416667\n",
       "Mary        0.666667\n",
       "John        0.450000\n",
       "Albert      0.500000\n",
       "Jeffrey     0.333333\n",
       "Julius      0.666667\n",
       "dtype: float64"
      ]
     },
     "execution_count": 7,
     "metadata": {},
     "output_type": "execute_result"
    }
   ],
   "source": [
    "# Calculate the average of the normalized ratings by row.\n",
    "movies_norm.mean(axis=1)"
   ]
  },
  {
   "cell_type": "code",
   "execution_count": 8,
   "id": "a56c16f6",
   "metadata": {},
   "outputs": [
    {
     "data": {
      "text/plain": [
       "The Batman                  0.250000\n",
       "Turning Red                 0.666667\n",
       "The Adam Project            0.750000\n",
       "Spider-Man: No Way Home     0.375000\n",
       "Nightmare Alley             0.666667\n",
       "Uncharted                   0.333333\n",
       "dtype: float64"
      ]
     },
     "execution_count": 8,
     "metadata": {},
     "output_type": "execute_result"
    }
   ],
   "source": [
    "# Calculate the average of the normalized ratings by column.\n",
    "norm = pd.Series(movies_norm.mean())\n",
    "norm"
   ]
  },
  {
   "cell_type": "code",
   "execution_count": 9,
   "id": "ee0d7de4",
   "metadata": {},
   "outputs": [
    {
     "data": {
      "text/html": [
       "<div>\n",
       "<style scoped>\n",
       "    .dataframe tbody tr th:only-of-type {\n",
       "        vertical-align: middle;\n",
       "    }\n",
       "\n",
       "    .dataframe tbody tr th {\n",
       "        vertical-align: top;\n",
       "    }\n",
       "\n",
       "    .dataframe thead th {\n",
       "        text-align: right;\n",
       "    }\n",
       "</style>\n",
       "<table border=\"1\" class=\"dataframe\">\n",
       "  <thead>\n",
       "    <tr style=\"text-align: right;\">\n",
       "      <th></th>\n",
       "      <th>mean</th>\n",
       "      <th>norm</th>\n",
       "    </tr>\n",
       "  </thead>\n",
       "  <tbody>\n",
       "    <tr>\n",
       "      <th>The Batman</th>\n",
       "      <td>2.500000</td>\n",
       "      <td>0.250000</td>\n",
       "    </tr>\n",
       "    <tr>\n",
       "      <th>Turning Red</th>\n",
       "      <td>3.750000</td>\n",
       "      <td>0.666667</td>\n",
       "    </tr>\n",
       "    <tr>\n",
       "      <th>The Adam Project</th>\n",
       "      <td>3.333333</td>\n",
       "      <td>0.750000</td>\n",
       "    </tr>\n",
       "    <tr>\n",
       "      <th>Spider-Man: No Way Home</th>\n",
       "      <td>2.500000</td>\n",
       "      <td>0.375000</td>\n",
       "    </tr>\n",
       "    <tr>\n",
       "      <th>Nightmare Alley</th>\n",
       "      <td>3.000000</td>\n",
       "      <td>0.666667</td>\n",
       "    </tr>\n",
       "    <tr>\n",
       "      <th>Uncharted</th>\n",
       "      <td>2.800000</td>\n",
       "      <td>0.333333</td>\n",
       "    </tr>\n",
       "  </tbody>\n",
       "</table>\n",
       "</div>"
      ],
      "text/plain": [
       "                              mean      norm\n",
       "The Batman                2.500000  0.250000\n",
       "Turning Red               3.750000  0.666667\n",
       "The Adam Project          3.333333  0.750000\n",
       "Spider-Man: No Way Home   2.500000  0.375000\n",
       "Nightmare Alley           3.000000  0.666667\n",
       "Uncharted                 2.800000  0.333333"
      ]
     },
     "execution_count": 9,
     "metadata": {},
     "output_type": "execute_result"
    }
   ],
   "source": [
    "# create a dataframe with both the average and normalized series by movie.\n",
    "movies_averages = pd.DataFrame({'mean':mean, 'norm':norm},mean.index)\n",
    "movies_averages"
   ]
  },
  {
   "cell_type": "markdown",
   "id": "1e39e011",
   "metadata": {},
   "source": [
    "# Conclusion"
   ]
  },
  {
   "cell_type": "markdown",
   "id": "c24df3d6",
   "metadata": {},
   "source": [
    "Normalization simplifies the data in a more scalable manner. I can see that when I divide the minimum movies by the maximum movies and then subtract the minimum movies again, I get more readable data that can be easily interpreted. "
   ]
  },
  {
   "cell_type": "code",
   "execution_count": null,
   "id": "9ef830a9",
   "metadata": {},
   "outputs": [],
   "source": []
  }
 ],
 "metadata": {
  "kernelspec": {
   "display_name": "Python 3 (ipykernel)",
   "language": "python",
   "name": "python3"
  },
  "language_info": {
   "codemirror_mode": {
    "name": "ipython",
    "version": 3
   },
   "file_extension": ".py",
   "mimetype": "text/x-python",
   "name": "python",
   "nbconvert_exporter": "python",
   "pygments_lexer": "ipython3",
   "version": "3.9.7"
  }
 },
 "nbformat": 4,
 "nbformat_minor": 5
}
