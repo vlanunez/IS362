{
 "cells": [
  {
   "cell_type": "markdown",
   "id": "906785d8",
   "metadata": {},
   "source": [
    "![Python](https://www.python.org/static/community_logos/python-logo-master-v3-TM.png)\n",
    "\n",
    "# Comprehension and Zip Function\n",
    "\n",
    "\n",
    "\n"
   ]
  },
  {
   "cell_type": "markdown",
   "id": "aebd1e77",
   "metadata": {},
   "source": [
    "##  Set Comprehension\n",
    "\n",
    "Set in Python are use to contain unique values so that each value in a given set can occur only once\n",
    "\n"
   ]
  },
  {
   "cell_type": "code",
   "execution_count": 1,
   "id": "264534b3",
   "metadata": {},
   "outputs": [
    {
     "name": "stdout",
     "output_type": "stream",
     "text": [
      "{'A', 'M', 'G', 'I', 'T', 'C', 'N', 'O', 'U', 'Q', 'D', 'S', 'E'}\n"
     ]
    }
   ],
   "source": [
    "#This block of code count the unique letters in the text while coverting the letters to upper case\n",
    "\n",
    "IS362 = 'Data Acquisition and Management'\n",
    "\n",
    "letters = {l.upper() for l in IS362 if not l.isspace()}\n",
    "\n",
    "print(letters)\n"
   ]
  },
  {
   "cell_type": "markdown",
   "id": "c83f2cb2",
   "metadata": {},
   "source": [
    "## Zip Function\n",
    "The Zip function takes two or more sequences as inputs and allow to iterate through all the sequences at the same time."
   ]
  },
  {
   "cell_type": "code",
   "execution_count": 2,
   "id": "7941537d",
   "metadata": {},
   "outputs": [
    {
     "name": "stdout",
     "output_type": "stream",
     "text": [
      "(('Sam', 18), ('Mary', 45), ('Vlad', 45))\n"
     ]
    }
   ],
   "source": [
    "#Retrive the name and age by each person as a tuple\n",
    "name = (\"Sam\", \"Mary\", \"Vlad\") \n",
    "age = (18, 45, 45)\n",
    "\n",
    "x = zip(name,age)\n",
    "\n",
    "print(tuple(x))"
   ]
  },
  {
   "cell_type": "markdown",
   "id": "82949b4a",
   "metadata": {},
   "source": [
    "## More Zip Function\n",
    "\n",
    "Using the For loop to iterate"
   ]
  },
  {
   "cell_type": "code",
   "execution_count": 3,
   "id": "412380b2",
   "metadata": {},
   "outputs": [],
   "source": [
    "#Grades scored by each of five studenst in exam1 \n",
    "exam1 = [60,70, 80, 90, 100]\n"
   ]
  },
  {
   "cell_type": "code",
   "execution_count": 4,
   "id": "9d013e8e",
   "metadata": {},
   "outputs": [],
   "source": [
    "#Grades scored by each of five studenst in exam2 \n",
    "exam2 =  [55, 63, 83, 91, 73]\n"
   ]
  },
  {
   "cell_type": "code",
   "execution_count": 5,
   "id": "be31ea95",
   "metadata": {},
   "outputs": [],
   "source": [
    "#sequence where score will be saved\n",
    "diff = []\n",
    "\n",
    "#iterate through exam1 and exam2 at the same time\n",
    "for x, y in zip(exam1, exam2):\n",
    "    \n",
    "    #compute absolute difference in exam1 and exam2\n",
    "    diff.append(abs(x-y))\n",
    "    "
   ]
  },
  {
   "cell_type": "code",
   "execution_count": 6,
   "id": "603eb840",
   "metadata": {},
   "outputs": [
    {
     "data": {
      "text/plain": [
       "[5, 7, 3, 1, 27]"
      ]
     },
     "execution_count": 6,
     "metadata": {},
     "output_type": "execute_result"
    }
   ],
   "source": [
    "diff"
   ]
  }
 ],
 "metadata": {
  "kernelspec": {
   "display_name": "Python 3 (ipykernel)",
   "language": "python",
   "name": "python3"
  },
  "language_info": {
   "codemirror_mode": {
    "name": "ipython",
    "version": 3
   },
   "file_extension": ".py",
   "mimetype": "text/x-python",
   "name": "python",
   "nbconvert_exporter": "python",
   "pygments_lexer": "ipython3",
   "version": "3.9.7"
  }
 },
 "nbformat": 4,
 "nbformat_minor": 5
}
