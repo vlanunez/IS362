{
 "cells": [
  {
   "cell_type": "markdown",
   "id": "e45b4ee7",
   "metadata": {},
   "source": [
    "## Project 1\n",
    "\"The pandas Series Object\"\n"
   ]
  },
  {
   "cell_type": "code",
   "execution_count": 1,
   "id": "03358833",
   "metadata": {},
   "outputs": [
    {
     "data": {
      "text/html": [
       "<div>\n",
       "<style scoped>\n",
       "    .dataframe tbody tr th:only-of-type {\n",
       "        vertical-align: middle;\n",
       "    }\n",
       "\n",
       "    .dataframe tbody tr th {\n",
       "        vertical-align: top;\n",
       "    }\n",
       "\n",
       "    .dataframe thead th {\n",
       "        text-align: right;\n",
       "    }\n",
       "</style>\n",
       "<table border=\"1\" class=\"dataframe\">\n",
       "  <thead>\n",
       "    <tr style=\"text-align: right;\">\n",
       "      <th></th>\n",
       "      <th>city</th>\n",
       "      <th>alaska_ontime</th>\n",
       "      <th>alaska_delayed</th>\n",
       "      <th>amwest_ontime</th>\n",
       "      <th>amwest_delayed</th>\n",
       "    </tr>\n",
       "  </thead>\n",
       "  <tbody>\n",
       "    <tr>\n",
       "      <th>0</th>\n",
       "      <td>Los Angeles</td>\n",
       "      <td>497</td>\n",
       "      <td>62</td>\n",
       "      <td>694</td>\n",
       "      <td>117</td>\n",
       "    </tr>\n",
       "    <tr>\n",
       "      <th>1</th>\n",
       "      <td>Phoenix</td>\n",
       "      <td>221</td>\n",
       "      <td>12</td>\n",
       "      <td>4840</td>\n",
       "      <td>415</td>\n",
       "    </tr>\n",
       "    <tr>\n",
       "      <th>2</th>\n",
       "      <td>San Diego</td>\n",
       "      <td>212</td>\n",
       "      <td>20</td>\n",
       "      <td>363</td>\n",
       "      <td>65</td>\n",
       "    </tr>\n",
       "    <tr>\n",
       "      <th>3</th>\n",
       "      <td>San Franscisco</td>\n",
       "      <td>503</td>\n",
       "      <td>102</td>\n",
       "      <td>320</td>\n",
       "      <td>129</td>\n",
       "    </tr>\n",
       "    <tr>\n",
       "      <th>4</th>\n",
       "      <td>Seatle</td>\n",
       "      <td>1841</td>\n",
       "      <td>305</td>\n",
       "      <td>201</td>\n",
       "      <td>61</td>\n",
       "    </tr>\n",
       "  </tbody>\n",
       "</table>\n",
       "</div>"
      ],
      "text/plain": [
       "             city  alaska_ontime  alaska_delayed  amwest_ontime  \\\n",
       "0     Los Angeles            497              62            694   \n",
       "1         Phoenix            221              12           4840   \n",
       "2       San Diego            212              20            363   \n",
       "3  San Franscisco            503             102            320   \n",
       "4          Seatle           1841             305            201   \n",
       "\n",
       "   amwest_delayed  \n",
       "0             117  \n",
       "1             415  \n",
       "2              65  \n",
       "3             129  \n",
       "4              61  "
      ]
     },
     "execution_count": 1,
     "metadata": {},
     "output_type": "execute_result"
    }
   ],
   "source": [
    "import pandas as pd\n",
    "\n",
    "df=pd.read_csv(r'c:\\Project 1.csv') \n",
    "df.head()"
   ]
  },
  {
   "cell_type": "markdown",
   "id": "4a657fff",
   "metadata": {},
   "source": [
    "## Summary Comparison\n",
    "\n",
    "calculated the percent of Alaska Airlines flights that were delayed for each of the 5 destinations\n",
    "The delayed flights divided by the total flights times 100 gives you the percent of total flights delayed.\n",
    "The results of the calculation are set to a new column called alaska_delay_percent and amwest_delay_percent"
   ]
  },
  {
   "cell_type": "code",
   "execution_count": 2,
   "id": "0f2917d4",
   "metadata": {},
   "outputs": [
    {
     "data": {
      "text/plain": [
       "0    11.091234\n",
       "1     5.150215\n",
       "2     8.620690\n",
       "3    16.859504\n",
       "4    14.212488\n",
       "dtype: float64"
      ]
     },
     "execution_count": 2,
     "metadata": {},
     "output_type": "execute_result"
    }
   ],
   "source": [
    "alaska_delay_percent = pd.Series(df.alaska_delayed/(df.alaska_ontime + df.alaska_delayed)*100)\n",
    "alaska_delay_percent"
   ]
  },
  {
   "cell_type": "code",
   "execution_count": 3,
   "id": "3a9e7dd4",
   "metadata": {},
   "outputs": [
    {
     "data": {
      "text/plain": [
       "0    14.426634\n",
       "1     7.897241\n",
       "2    15.186916\n",
       "3    28.730512\n",
       "4    23.282443\n",
       "dtype: float64"
      ]
     },
     "execution_count": 3,
     "metadata": {},
     "output_type": "execute_result"
    }
   ],
   "source": [
    "amwest_delay_percent = pd.Series(df.amwest_delayed/(df.amwest_ontime + df.amwest_delayed)*100)\n",
    "amwest_delay_percent"
   ]
  },
  {
   "cell_type": "markdown",
   "id": "8a14dbec",
   "metadata": {},
   "source": [
    "## Conclusion\n",
    "Based on the information, we can see that AMWest has a more significant percentage of delays compared to Alaska. Then Alaska could be a more reliable airline."
   ]
  }
 ],
 "metadata": {
  "kernelspec": {
   "display_name": "Python 3 (ipykernel)",
   "language": "python",
   "name": "python3"
  },
  "language_info": {
   "codemirror_mode": {
    "name": "ipython",
    "version": 3
   },
   "file_extension": ".py",
   "mimetype": "text/x-python",
   "name": "python",
   "nbconvert_exporter": "python",
   "pygments_lexer": "ipython3",
   "version": "3.9.7"
  }
 },
 "nbformat": 4,
 "nbformat_minor": 5
}
