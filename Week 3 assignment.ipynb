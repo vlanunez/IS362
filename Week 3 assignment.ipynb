{
 "cells": [
  {
   "cell_type": "code",
   "execution_count": 1,
   "id": "df0a4fdd",
   "metadata": {},
   "outputs": [],
   "source": [
    "import numpy as np\n",
    "import pandas as pd\n",
    "from random import randrange"
   ]
  },
  {
   "cell_type": "code",
   "execution_count": 2,
   "id": "6c402042",
   "metadata": {},
   "outputs": [],
   "source": [
    "# create a funtion to supply random distances between 55 miles \n",
    "# and 65 miles to assign cumulative distances to the array\n",
    "def distance():\n",
    "    global odometer \n",
    "    odometer += randrange(55,65)\n",
    "    return odometer"
   ]
  },
  {
   "cell_type": "code",
   "execution_count": 3,
   "id": "4366bfb7",
   "metadata": {},
   "outputs": [
    {
     "data": {
      "text/plain": [
       "0     63\n",
       "1    125\n",
       "2    183\n",
       "3    245\n",
       "4    303\n",
       "5    365\n",
       "6    427\n",
       "7    490\n",
       "dtype: int64"
      ]
     },
     "execution_count": 3,
     "metadata": {},
     "output_type": "execute_result"
    }
   ],
   "source": [
    "# Create a series with the cumulative odometer readings using \n",
    "# the distance function to increment it\n",
    "\n",
    "# create a variable that will represent our odometer\n",
    "odometer = 0\n",
    "\n",
    "# initialize the series\n",
    "distance = pd.Series([distance(),\n",
    "                        distance(),\n",
    "                        distance(),\n",
    "                        distance(),\n",
    "                        distance(),\n",
    "                        distance(),\n",
    "                        distance(),\n",
    "                        distance()])\n",
    "distance"
   ]
  },
  {
   "cell_type": "code",
   "execution_count": 4,
   "id": "2bd9437a",
   "metadata": {},
   "outputs": [],
   "source": [
    "# create a function that returns the difference between a passed\n",
    "# series index and the one before it\n",
    "def dailydistance(sIndex):\n",
    "    global distance\n",
    "    if sIndex <= distance.size - 1 and sIndex >= 0:\n",
    "        if sIndex > 0:\n",
    "            return distance[sIndex] - distance[sIndex-1]\n",
    "        else:\n",
    "            return distance[0]\n",
    "    else:\n",
    "        print('Error: dailydistance, index is out of range. Returning last element.')\n",
    "        return distance[distance.size-1]"
   ]
  },
  {
   "cell_type": "code",
   "execution_count": 5,
   "id": "75bf8f4d",
   "metadata": {},
   "outputs": [
    {
     "name": "stdout",
     "output_type": "stream",
     "text": [
      "On day 1 you traveled a distanace of 63 miles. Totaling 63 miles traveled.\n",
      "On day 2 you traveled a distanace of 62 miles. Totaling 125 miles traveled.\n",
      "On day 3 you traveled a distanace of 58 miles. Totaling 183 miles traveled.\n",
      "On day 4 you traveled a distanace of 62 miles. Totaling 245 miles traveled.\n",
      "On day 5 you traveled a distanace of 58 miles. Totaling 303 miles traveled.\n",
      "On day 6 you traveled a distanace of 62 miles. Totaling 365 miles traveled.\n",
      "On day 7 you traveled a distanace of 62 miles. Totaling 427 miles traveled.\n",
      "On day 8 you traveled a distanace of 63 miles. Totaling 490 miles traveled.\n"
     ]
    }
   ],
   "source": [
    "# return a Series from the distance object of the individual daily distances\n",
    "for i in range(0, distance.size):\n",
    "    print('On day',i+1, 'you traveled a distanace of', dailydistance(i), 'miles.', 'Totaling',distance[i],'miles traveled.')"
   ]
  }
 ],
 "metadata": {
  "kernelspec": {
   "display_name": "Python 3 (ipykernel)",
   "language": "python",
   "name": "python3"
  },
  "language_info": {
   "codemirror_mode": {
    "name": "ipython",
    "version": 3
   },
   "file_extension": ".py",
   "mimetype": "text/x-python",
   "name": "python",
   "nbconvert_exporter": "python",
   "pygments_lexer": "ipython3",
   "version": "3.9.7"
  }
 },
 "nbformat": 4,
 "nbformat_minor": 5
}
